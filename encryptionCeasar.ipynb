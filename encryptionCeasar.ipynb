{
  "nbformat": 4,
  "nbformat_minor": 0,
  "metadata": {
    "colab": {
      "name": "encryptionCeasar.ipynb",
      "provenance": [],
      "authorship_tag": "ABX9TyPtEe17FIAmQVSup6m4y4Rk"
    },
    "kernelspec": {
      "name": "python3",
      "display_name": "Python 3"
    }
  },
  "cells": [
    {
      "cell_type": "markdown",
      "metadata": {
        "id": "Hw52A_vqk1oB",
        "colab_type": "text"
      },
      "source": [
        "Importação"
      ]
    },
    {
      "cell_type": "code",
      "metadata": {
        "id": "FngdbhPdzNWu",
        "colab_type": "code",
        "colab": {}
      },
      "source": [
        "import requests, json, string\n",
        "from hashlib import sha1\n",
        "from string import ascii_lowercase as alphabet"
      ],
      "execution_count": 0,
      "outputs": []
    },
    {
      "cell_type": "markdown",
      "metadata": {
        "id": "sQRSABQKmwfr",
        "colab_type": "text"
      },
      "source": [
        "Função para contagem de letra e número\n"
      ]
    },
    {
      "cell_type": "code",
      "metadata": {
        "id": "_F85scgu1RFO",
        "colab_type": "code",
        "colab": {}
      },
      "source": [
        "def cheker(letra, key):\n",
        "    try:\n",
        "        return alphabet[(alphabet.index(letra) - key) % len(alphabet)]\n",
        "    except:\n",
        "        return letra"
      ],
      "execution_count": 0,
      "outputs": []
    },
    {
      "cell_type": "markdown",
      "metadata": {
        "id": "jt6FrA5Qm9Vk",
        "colab_type": "text"
      },
      "source": [
        "Função para decifrar\n"
      ]
    },
    {
      "cell_type": "code",
      "metadata": {
        "id": "aBNr2YVT2rav",
        "colab_type": "code",
        "colab": {}
      },
      "source": [
        "def decifra(text, key):\n",
        "    out = []\n",
        "    for x in text.lower():\n",
        "        if x.isnumeric() or x in string.punctuation:\n",
        "            out.append(x)\n",
        "        else:\n",
        "            out.append(cheker(x, key))\n",
        "    return \"\".join(out)"
      ],
      "execution_count": 0,
      "outputs": []
    },
    {
      "cell_type": "markdown",
      "metadata": {
        "id": "rBuBLz-xmni0",
        "colab_type": "text"
      },
      "source": [
        "URI e tratamento"
      ]
    },
    {
      "cell_type": "code",
      "metadata": {
        "id": "D4tI7vCY9cIz",
        "colab_type": "code",
        "colab": {}
      },
      "source": [
        "req = requests.get(\"https://api.codenation.dev/v1/challenge/dev-ps/generate-data?token=SEU_TOKEN\")\n",
        "resposta = req.json()\n",
        "decifrado = decifra(resposta['cifrado'], resposta['numero_casas'])"
      ],
      "execution_count": 0,
      "outputs": []
    },
    {
      "cell_type": "code",
      "metadata": {
        "id": "ZnXic3iD9y9H",
        "colab_type": "code",
        "colab": {
          "base_uri": "https://localhost:8080/",
          "height": 105
        },
        "outputId": "8f4a6d5a-43b9-4dc0-ab3d-a2c45e8844f0"
      },
      "source": [
        "resposta"
      ],
      "execution_count": 5,
      "outputs": [
        {
          "output_type": "execute_result",
          "data": {
            "text/plain": [
              "{'cifrado': 'j pomz cfmjfwf jo tubujtujdt uibu j epdupsfe nztfmg. xjotupo t. divsdijmm?',\n",
              " 'decifrado': '',\n",
              " 'numero_casas': 1,\n",
              " 'resumo_criptografico': '',\n",
              " 'token': ''}"
            ]
          },
          "metadata": {
            "tags": []
          },
          "execution_count": 5
        }
      ]
    },
    {
      "cell_type": "code",
      "metadata": {
        "id": "xxZ30iez91XC",
        "colab_type": "code",
        "colab": {
          "base_uri": "https://localhost:8080/",
          "height": 34
        },
        "outputId": "57ae75d6-381e-47ce-99ed-d2d5e1dd881a"
      },
      "source": [
        "decifrado"
      ],
      "execution_count": 6,
      "outputs": [
        {
          "output_type": "execute_result",
          "data": {
            "text/plain": [
              "'i only believe in statistics that i doctored myself. winston s. churchill?'"
            ]
          },
          "metadata": {
            "tags": []
          },
          "execution_count": 6
        }
      ]
    },
    {
      "cell_type": "code",
      "metadata": {
        "id": "wAi0fZof95qj",
        "colab_type": "code",
        "colab": {}
      },
      "source": [
        "resposta['decifrado'] = decifrado\n",
        "resposta['resumo_criptografico'] = sha1(decifrado.encode()).hexdigest()"
      ],
      "execution_count": 0,
      "outputs": []
    },
    {
      "cell_type": "code",
      "metadata": {
        "id": "mjwkv_O999AD",
        "colab_type": "code",
        "colab": {
          "base_uri": "https://localhost:8080/",
          "height": 105
        },
        "outputId": "aa4ae573-f56b-4e53-89ed-35a9036fa982"
      },
      "source": [
        "resposta"
      ],
      "execution_count": 8,
      "outputs": [
        {
          "output_type": "execute_result",
          "data": {
            "text/plain": [
              "{'cifrado': 'j pomz cfmjfwf jo tubujtujdt uibu j epdupsfe nztfmg. xjotupo t. divsdijmm?',\n",
              " 'decifrado': 'i only believe in statistics that i doctored myself. winston s. churchill?',\n",
              " 'numero_casas': 1,\n",
              " 'resumo_criptografico': '99b80cf5d31e469712dfc7d1ff15c463b23241e2',\n",
              " 'token': '51889fa45b3bda5f7fa2df068302fae4f3c19212'}"
            ]
          },
          "metadata": {
            "tags": []
          },
          "execution_count": 8
        }
      ]
    },
    {
      "cell_type": "markdown",
      "metadata": {
        "id": "B6YuJNuynPGE",
        "colab_type": "text"
      },
      "source": [
        "Envio de arquivo *answer.json*"
      ]
    },
    {
      "cell_type": "code",
      "metadata": {
        "id": "vNbZIdTT9_08",
        "colab_type": "code",
        "colab": {}
      },
      "source": [
        "result = requests.post(\"https://api.codenation.dev/v1/challenge/dev-ps/submit-solution?token=SEU_TOKEN\", files = {'answer': json.dumps(resposta)})"
      ],
      "execution_count": 0,
      "outputs": []
    },
    {
      "cell_type": "markdown",
      "metadata": {
        "id": "lZnmSVhgnHkb",
        "colab_type": "text"
      },
      "source": [
        "Retornando o resutado de score da API"
      ]
    },
    {
      "cell_type": "code",
      "metadata": {
        "id": "4nHdLYXp-O1V",
        "colab_type": "code",
        "colab": {
          "base_uri": "https://localhost:8080/",
          "height": 34
        },
        "outputId": "5b5082be-a535-40aa-c96d-e96effb3e0b5"
      },
      "source": [
        "result.json()"
      ],
      "execution_count": 10,
      "outputs": [
        {
          "output_type": "execute_result",
          "data": {
            "text/plain": [
              "{'score': 100}"
            ]
          },
          "metadata": {
            "tags": []
          },
          "execution_count": 10
        }
      ]
    }
  ]
}
